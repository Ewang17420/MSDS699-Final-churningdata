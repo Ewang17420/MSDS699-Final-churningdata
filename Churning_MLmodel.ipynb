{
 "cells": [
  {
   "cell_type": "code",
   "execution_count": 2,
   "id": "activated-onion",
   "metadata": {},
   "outputs": [],
   "source": [
    "from   category_encoders          import *\n",
    "import numpy as np\n",
    "import pandas as pd\n",
    "import imblearn\n",
    "from   imblearn.pipeline          import make_pipeline \n",
    "from   sklearn.compose            import *\n",
    "from   sklearn.ensemble           import RandomForestClassifier, ExtraTreesClassifier, IsolationForest, GradientBoostingClassifier\n",
    "from   sklearn.experimental       import enable_iterative_imputer\n",
    "from   sklearn.impute             import *\n",
    "from   sklearn.linear_model       import LogisticRegression, PassiveAggressiveClassifier, RidgeClassifier, SGDClassifier\n",
    "from   sklearn.metrics            import balanced_accuracy_score \n",
    "from   sklearn.pipeline           import Pipeline\n",
    "from   sklearn.model_selection    import train_test_split\n",
    "from   sklearn.preprocessing      import *\n",
    "from   sklearn.tree               import DecisionTreeClassifier\n",
    "from   sklearn.metrics            import *\n",
    "from   sklearn.decomposition      import PCA\n",
    "from   sklearn.base               import BaseEstimator\n",
    "from   sklearn.model_selection    import RandomizedSearchCV\n",
    "from   sklearn.neighbors          import KNeighborsClassifier\n",
    "from   sklearn.naive_bayes        import GaussianNB\n",
    "from   sklearn.svm                import SVC\n",
    "import warnings\n",
    "warnings.filterwarnings('ignore')"
   ]
  },
  {
   "cell_type": "markdown",
   "id": "political-correspondence",
   "metadata": {},
   "source": [
    "## Load data"
   ]
  },
  {
   "cell_type": "code",
   "execution_count": 3,
   "id": "linear-format",
   "metadata": {},
   "outputs": [],
   "source": [
    "df = pd.read_csv(\"BankChurners.csv\")\n",
    "\n",
    "drop_columns = ['CLIENTNUM',\n",
    "                'Naive_Bayes_Classifier_Attrition_Flag_Card_Category_Contacts_Count_12_mon_Dependent_count_Education_Level_Months_Inactive_12_mon_1',\n",
    "                'Naive_Bayes_Classifier_Attrition_Flag_Card_Category_Contacts_Count_12_mon_Dependent_count_Education_Level_Months_Inactive_12_mon_2']\n",
    "\n",
    "data_raw = df.drop(drop_columns,errors='ignore',axis=1)"
   ]
  },
  {
   "cell_type": "markdown",
   "id": "engaged-enlargement",
   "metadata": {},
   "source": [
    "## Check if imbalance"
   ]
  },
  {
   "cell_type": "code",
   "execution_count": 4,
   "id": "addressed-carpet",
   "metadata": {},
   "outputs": [
    {
     "data": {
      "text/plain": [
       "Existing Customer    8500\n",
       "Attrited Customer    1627\n",
       "Name: Attrition_Flag, dtype: int64"
      ]
     },
     "execution_count": 4,
     "metadata": {},
     "output_type": "execute_result"
    }
   ],
   "source": [
    "data_raw['Attrition_Flag'].value_counts()"
   ]
  },
  {
   "cell_type": "markdown",
   "id": "charitable-contrast",
   "metadata": {},
   "source": [
    "## Define our target - churned or not"
   ]
  },
  {
   "cell_type": "code",
   "execution_count": 5,
   "id": "english-payment",
   "metadata": {},
   "outputs": [],
   "source": [
    "codes = {'Existing Customer':0, 'Attrited Customer':1}\n",
    "data_raw['Attrition_Flag'] = data_raw['Attrition_Flag'].map(codes)\n",
    "\n",
    "y = data_raw['Attrition_Flag']\n",
    "X = data_raw.drop('Attrition_Flag',errors='ignore',axis=1)"
   ]
  },
  {
   "cell_type": "markdown",
   "id": "later-embassy",
   "metadata": {},
   "source": [
    "## Helper class"
   ]
  },
  {
   "cell_type": "code",
   "execution_count": 6,
   "id": "maritime-bunny",
   "metadata": {},
   "outputs": [],
   "source": [
    "class DummyEstimator(BaseEstimator):\n",
    "    \"Pass through class, methods are present but do nothing.\"\n",
    "    def fit(self): pass\n",
    "    def score(self): pass"
   ]
  },
  {
   "cell_type": "markdown",
   "id": "outstanding-pendant",
   "metadata": {},
   "source": [
    "## Data preprocessing "
   ]
  },
  {
   "cell_type": "code",
   "execution_count": 9,
   "id": "smart-secret",
   "metadata": {},
   "outputs": [],
   "source": [
    "X_train, X_test, y_train, y_test = train_test_split(X, y, test_size=0.2)\n",
    "\n",
    "categorical_columns = ['Gender','Education_Level','Income_Category',\n",
    "                       'Marital_Status', 'Card_Category']\n",
    "\n",
    "bin_categorical_columns = ['Customer_Age','Dependent_count',\n",
    "                           'Total_Relationship_Count','Months_Inactive_12_mon','Contacts_Count_12_mon',\n",
    "                           'Months_on_book']\n",
    "\n",
    "numeric_columns = ['Credit_Limit', 'Total_Revolving_Bal','Avg_Open_To_Buy','Total_Amt_Chng_Q4_Q1',\n",
    "                   'Total_Trans_Amt','Total_Trans_Ct', 'Total_Ct_Chng_Q4_Q1','Avg_Utilization_Ratio']\n",
    "\n",
    "numeric_pipe = Pipeline([('scaler', StandardScaler()),\n",
    "                          ('imputer', SimpleImputer(strategy='median', add_indicator=True))])\n",
    "\n",
    "categorical_pipe = Pipeline([('imputer', SimpleImputer(strategy='constant', fill_value='missing')), \n",
    "                                  ('ohe', OneHotEncoder(handle_unknown='ignore'))])\n",
    "\n",
    "bin_categorical_pipe = Pipeline([('imputer', SimpleImputer(strategy='median')), \n",
    "                                 ('bins', KBinsDiscretizer(n_bins=4, encode='onehot'))])\n",
    "\n",
    "preprocessing = ColumnTransformer([('categorical', categorical_pipe,  categorical_columns),\n",
    "                                   ('bin_categorical', bin_categorical_pipe, bin_categorical_columns),\n",
    "                                   ('continuous',  numeric_pipe, numeric_columns)])\n"
   ]
  },
  {
   "cell_type": "markdown",
   "id": "understood-anatomy",
   "metadata": {},
   "source": [
    "## Random Search"
   ]
  },
  {
   "cell_type": "code",
   "execution_count": 10,
   "id": "violent-enclosure",
   "metadata": {},
   "outputs": [],
   "source": [
    "pipe_dt = Pipeline([('scl', StandardScaler()),\n",
    "                    ('clf', DummyEstimator())])\n",
    "\n",
    "search_space = [{'clf': [LogisticRegression()], # LogisticRegression\n",
    "                 'clf__penalty': ['l1', 'l2'],\n",
    "                 'clf__C': np.logspace(0, 4, 6,10)},\n",
    "                \n",
    "                {'clf': [RandomForestClassifier()],  # RandomForest\n",
    "                 'clf__criterion': ['gini', 'entropy'],\n",
    "                 'clf__max_depth': [2, 3, 4, 5, 6],\n",
    "                 'clf__min_samples_leaf': [1, 2, 3, 4],\n",
    "                 'clf__n_estimators': [100, 150, 200]},\n",
    "                \n",
    "                {'clf': [ExtraTreesClassifier()],  # ExtraTrees\n",
    "                 'clf__criterion': ['gini', 'entropy'],\n",
    "                 'clf__max_depth': [2, 3, 4, 5, 6],\n",
    "                 'clf__min_samples_leaf': [1, 2, 3, 4],\n",
    "                 'clf__max_features': ['auto', 'sqrt', 'log2']},\n",
    "                \n",
    "                {'clf': [GaussianNB()],  # GaussianNB\n",
    "                 'clf__var_smoothing': np.logspace(0,-9, num=100)},\n",
    "                \n",
    "                {'clf': [KNeighborsClassifier()], # KNeighbors\n",
    "                 'clf__n_neighbors': [2,5,10],\n",
    "                 'clf__weights': ['uniform', 'distance'],\n",
    "                 'clf__algorithm': ['auto', 'ball_tree', 'kd_tree', 'brute']},\n",
    "                {'clf': [SVC()], # SVC\n",
    "                 'clf__C': np.logspace(0, 4, 6,10),\n",
    "                 'clf__kernel': ['linear', 'poly', 'rbf', 'sigmoid', 'precomputed']},\n",
    "                {'clf': [GradientBoostingClassifier()], #XGB\n",
    "                 'clf__n_estimators': [20,50,100,150]}]\n",
    "\n",
    "clf_algos_rand = RandomizedSearchCV(estimator=pipe_dt, \n",
    "                                    param_distributions=search_space, \n",
    "                                    n_iter=25,\n",
    "                                    cv=5, \n",
    "                                    n_jobs=-1,\n",
    "                                    verbose=10)"
   ]
  },
  {
   "cell_type": "markdown",
   "id": "threatened-death",
   "metadata": {},
   "source": [
    "## Pipeline - Model training, PCA and SMOTE"
   ]
  },
  {
   "cell_type": "code",
   "execution_count": 8,
   "id": "twenty-chester",
   "metadata": {},
   "outputs": [
    {
     "name": "stdout",
     "output_type": "stream",
     "text": [
      "Fitting 5 folds for each of 25 candidates, totalling 125 fits\n"
     ]
    },
    {
     "data": {
      "text/plain": [
       "Pipeline(steps=[('columntransformer',\n",
       "                 ColumnTransformer(transformers=[('categorical',\n",
       "                                                  Pipeline(steps=[('imputer',\n",
       "                                                                   SimpleImputer(fill_value='missing',\n",
       "                                                                                 strategy='constant')),\n",
       "                                                                  ('ohe',\n",
       "                                                                   OneHotEncoder(handle_unknown='ignore'))]),\n",
       "                                                  ['Gender', 'Education_Level',\n",
       "                                                   'Income_Category',\n",
       "                                                   'Marital_Status',\n",
       "                                                   'Card_Category']),\n",
       "                                                 ('bin_categorical',\n",
       "                                                  Pipeline(steps=[('imputer',\n",
       "                                                                   Simple...\n",
       "                                                                             'brute'],\n",
       "                                                          'clf__n_neighbors': [2,\n",
       "                                                                               5,\n",
       "                                                                               10],\n",
       "                                                          'clf__weights': ['uniform',\n",
       "                                                                           'distance']},\n",
       "                                                         {'clf': [SVC()],\n",
       "                                                          'clf__C': array([1.00000000e+00, 6.30957344e+00, 3.98107171e+01, 2.51188643e+02,\n",
       "       1.58489319e+03, 1.00000000e+04]),\n",
       "                                                          'clf__kernel': ['linear',\n",
       "                                                                          'poly',\n",
       "                                                                          'rbf',\n",
       "                                                                          'sigmoid',\n",
       "                                                                          'precomputed']},\n",
       "                                                         {'clf': [GradientBoostingClassifier()],\n",
       "                                                          'clf__n_estimators': [20,\n",
       "                                                                                50,\n",
       "                                                                                100,\n",
       "                                                                                150]}],\n",
       "                                    verbose=10))])"
      ]
     },
     "execution_count": 8,
     "metadata": {},
     "output_type": "execute_result"
    }
   ],
   "source": [
    "pipe = make_pipeline(preprocessing, \n",
    "                     PCA(n_components=10),\n",
    "                     imblearn.over_sampling.SMOTE(sampling_strategy='auto',\n",
    "                                                  k_neighbors=15,\n",
    "                                                  n_jobs=-1),\n",
    "                     clf_algos_rand)\n",
    "\n",
    "\n",
    "pipe.fit(X_train, y_train)"
   ]
  },
  {
   "cell_type": "markdown",
   "id": "arabic-annual",
   "metadata": {},
   "source": [
    "## Valuation metric "
   ]
  },
  {
   "cell_type": "code",
   "execution_count": 142,
   "id": "involved-alcohol",
   "metadata": {},
   "outputs": [
    {
     "name": "stdout",
     "output_type": "stream",
     "text": [
      "              precision    recall  f1-score   support\n",
      "\n",
      "           0       0.98      0.98      0.98      1700\n",
      "           1       0.88      0.92      0.90       326\n",
      "\n",
      "    accuracy                           0.97      2026\n",
      "   macro avg       0.93      0.95      0.94      2026\n",
      "weighted avg       0.97      0.97      0.97      2026\n",
      "\n"
     ]
    }
   ],
   "source": [
    "y_test   = y_test.values.ravel()\n",
    "y_pred   = pipe.predict(X_test)\n",
    "c_report_test = classification_report(y_test, y_pred)\n",
    "print(c_report_test)"
   ]
  },
  {
   "cell_type": "code",
   "execution_count": 16,
   "id": "lesbian-colors",
   "metadata": {},
   "outputs": [
    {
     "name": "stdout",
     "output_type": "stream",
     "text": [
      " - AUC score:  0.934\n"
     ]
    }
   ],
   "source": [
    "probs = pipe.predict_proba(X_test)\n",
    "probs = probs[:,1]\n",
    "auc = roc_auc_score(y_test, probs)\n",
    "print(\" - AUC score: \",'{:.3f}'.format(auc))"
   ]
  },
  {
   "cell_type": "code",
   "execution_count": null,
   "id": "south-receptor",
   "metadata": {},
   "outputs": [],
   "source": []
  }
 ],
 "metadata": {
  "kernelspec": {
   "display_name": "Python 3",
   "language": "python",
   "name": "python3"
  },
  "language_info": {
   "codemirror_mode": {
    "name": "ipython",
    "version": 3
   },
   "file_extension": ".py",
   "mimetype": "text/x-python",
   "name": "python",
   "nbconvert_exporter": "python",
   "pygments_lexer": "ipython3",
   "version": "3.8.5"
  }
 },
 "nbformat": 4,
 "nbformat_minor": 5
}
